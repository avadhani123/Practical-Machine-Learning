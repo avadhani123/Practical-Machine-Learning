{
  "nbformat": 4,
  "nbformat_minor": 0,
  "metadata": {
    "colab": {
      "name": "Assignment2_Experiments1,2.ipynb",
      "provenance": [],
      "collapsed_sections": [],
      "authorship_tag": "ABX9TyMfvqVJ28M3eOqT/pOuYltA",
      "include_colab_link": true
    },
    "kernelspec": {
      "name": "python3",
      "display_name": "Python 3"
    }
  },
  "cells": [
    {
      "cell_type": "markdown",
      "metadata": {
        "id": "view-in-github",
        "colab_type": "text"
      },
      "source": [
        "<a href=\"https://colab.research.google.com/github/avadhani123/Practical-Machine-Learning/blob/master/Assignment2_Experiments1%2C2.ipynb\" target=\"_parent\"><img src=\"https://colab.research.google.com/assets/colab-badge.svg\" alt=\"Open In Colab\"/></a>"
      ]
    },
    {
      "cell_type": "markdown",
      "metadata": {
        "id": "w7PbtxgXOHPo"
      },
      "source": [
        "\n",
        "Objective\n",
        "This study is a comparative exploration of dense neural networks and convolutional neural networks (CNNs) for image classification, with a two-fold goal: develop a neural network model for highly-accurate and generalizable classification and gain an in-depth understanding of how various factors affect fitting and ultimate test set performance with networks of differing topologies and hyperparameter settings.\n",
        "\n",
        "These experiments will help determine different deep learning models' potential utility in classification problems for computer vision on the Fashion MNSIT dataset of image recognition problems, for example facial recognition.\n",
        "\n"
      ]
    },
    {
      "cell_type": "markdown",
      "metadata": {
        "id": "weKsH2-yOGj8"
      },
      "source": [
        "Import Statements"
      ]
    },
    {
      "cell_type": "code",
      "metadata": {
        "id": "Xvf7f6uPR-Ga"
      },
      "source": [
        "import numpy as np\n",
        "import pandas as pd\n",
        "import os\n",
        "from collections import Counter\n",
        "import datetime\n",
        "\n",
        "import tensorflow as tf\n",
        "from tensorflow import keras\n",
        "from tensorflow.keras import models\n",
        "from tensorflow.keras import layers\n",
        "from tensorflow.keras import optimizers\n",
        "from tensorflow.keras import regularizers\n",
        "from tensorflow.keras.preprocessing.image import ImageDataGenerator\n",
        "from tensorflow.keras.preprocessing import image\n",
        "\n",
        "%matplotlib inline\n",
        "import matplotlib.pyplot as plt\n",
        "import seaborn as sns"
      ],
      "execution_count": null,
      "outputs": []
    },
    {
      "cell_type": "code",
      "metadata": {
        "colab": {
          "base_uri": "https://localhost:8080/",
          "height": 35
        },
        "id": "tenFcl2iSDaf",
        "outputId": "79610698-6b0c-4afc-e96b-731f8d004070"
      },
      "source": [
        "\n",
        "# Check Keras version\n",
        "keras.__version__"
      ],
      "execution_count": null,
      "outputs": [
        {
          "output_type": "execute_result",
          "data": {
            "application/vnd.google.colaboratory.intrinsic+json": {
              "type": "string"
            },
            "text/plain": [
              "'2.4.0'"
            ]
          },
          "metadata": {
            "tags": []
          },
          "execution_count": 2
        }
      ]
    },
    {
      "cell_type": "code",
      "metadata": {
        "id": "crqSb2ORYaIW"
      },
      "source": [
        "keras.backend.clear_session()\n",
        "np.random.seed(42)\n",
        "tf.random.set_seed(42)"
      ],
      "execution_count": null,
      "outputs": []
    },
    {
      "cell_type": "code",
      "metadata": {
        "id": "gloD-bv4Ycwe"
      },
      "source": [
        "#import Fashion MNSIT data set"
      ],
      "execution_count": null,
      "outputs": []
    },
    {
      "cell_type": "code",
      "metadata": {
        "colab": {
          "base_uri": "https://localhost:8080/"
        },
        "id": "zms-3a1YYgWA",
        "outputId": "6f8438dd-8d3e-44c5-d235-df020e9bedc9"
      },
      "source": [
        "from tensorflow.keras.datasets import fashion_mnist\n",
        "\n",
        "(train_images, train_labels), (test_images, test_labels) = fashion_mnist.load_data()\n",
        "\n",
        "train_images.shape, test_images.shape, test_labels.shape, test_labels.shape"
      ],
      "execution_count": null,
      "outputs": [
        {
          "output_type": "execute_result",
          "data": {
            "text/plain": [
              "((60000, 28, 28), (10000, 28, 28), (10000,), (10000,))"
            ]
          },
          "metadata": {
            "tags": []
          },
          "execution_count": 77
        }
      ]
    },
    {
      "cell_type": "code",
      "metadata": {
        "id": "5Ci2_STHYhPl"
      },
      "source": [
        "class_names = ['T-shirt/top', 'Trouser', 'Pullover', 'Dress', 'Coat',\n",
        "               'Sandal', 'Shirt', 'Sneaker', 'Bag', 'Ankle boot']"
      ],
      "execution_count": null,
      "outputs": []
    },
    {
      "cell_type": "code",
      "metadata": {
        "colab": {
          "base_uri": "https://localhost:8080/",
          "height": 264
        },
        "id": "TL4mzyv1YjwH",
        "outputId": "3decc5b0-ef58-4faf-9692-25b808d9080f"
      },
      "source": [
        "plt.imshow(train_images[1], cmap=\"binary\") \n",
        "plt.axis('off')\n",
        "plt.title(class_names[test_labels[1]], fontsize=12)\n",
        "plt.show()"
      ],
      "execution_count": null,
      "outputs": [
        {
          "output_type": "display_data",
          "data": {
            "image/png": "[encoded data removed]",
            "text/plain": [
              "<Figure size 432x288 with 1 Axes>"
            ]
          },
          "metadata": {
            "tags": [],
            "needs_background": "light"
          }
        }
      ]
    },
    {
      "cell_type": "code",
      "metadata": {
        "id": "uS7ZuPuGYlzn"
      },
      "source": [
        "#data pre processing"
      ],
      "execution_count": null,
      "outputs": []
    },
    {
      "cell_type": "code",
      "metadata": {
        "id": "mSz6K50dYnMR"
      },
      "source": [
        "train_images = train_images.astype('float32') / 255\n",
        "\n",
        "test_images = test_images.astype('float32') / 255"
      ],
      "execution_count": null,
      "outputs": []
    },
    {
      "cell_type": "code",
      "metadata": {
        "id": "R6Xkp8IZYq8i"
      },
      "source": [
        "val_images, train_images = train_images[:5000], train_images[5000:] \n",
        "val_labels, train_labels = train_labels[:5000], train_labels[5000:]"
      ],
      "execution_count": null,
      "outputs": []
    },
    {
      "cell_type": "markdown",
      "metadata": {
        "id": "bYHG7t2YYvI6"
      },
      "source": [
        "EXPERIMENT 1:\n",
        "The baseline DNN model will consist of 784 input nodes, a hidden layer with 5 nodes and 10 output nodes (corresponding to the 10 fashion categories)."
      ]
    },
    {
      "cell_type": "markdown",
      "metadata": {
        "id": "ROIgEFphZ-er"
      },
      "source": [
        "The following four (fifth will be a repeat of all with regularization) experiments use 20 epochs of batch size 100 and no regularization\n"
      ]
    },
    {
      "cell_type": "code",
      "metadata": {
        "id": "vI1DEhX9acKu"
      },
      "source": [
        "#Building the model"
      ],
      "execution_count": null,
      "outputs": []
    },
    {
      "cell_type": "code",
      "metadata": {
        "id": "udZGa6tYYs6v"
      },
      "source": [
        "model_1 = models.Sequential()\n",
        "model_1.add(layers.Flatten(input_shape=[28, 28]))\n",
        "model_1.add(layers.Dense(5, activation='relu'))\n",
        "model_1.add(layers.Dense(10, activation='softmax'))"
      ],
      "execution_count": null,
      "outputs": []
    },
    {
      "cell_type": "code",
      "metadata": {
        "colab": {
          "base_uri": "https://localhost:8080/"
        },
        "id": "yJKP_wAsYs9S",
        "outputId": "a88e1199-2e1c-4829-ee48-ebd26227bb86"
      },
      "source": [
        "model_1.summary()"
      ],
      "execution_count": null,
      "outputs": [
        {
          "output_type": "stream",
          "text": [
            "Model: \"sequential\"\n",
            "_________________________________________________________________\n",
            "Layer (type)                 Output Shape              Param #   \n",
            "=================================================================\n",
            "flatten (Flatten)            (None, 784)               0         \n",
            "_________________________________________________________________\n",
            "dense (Dense)                (None, 5)                 3925      \n",
            "_________________________________________________________________\n",
            "dense_1 (Dense)              (None, 10)                60        \n",
            "=================================================================\n",
            "Total params: 3,985\n",
            "Trainable params: 3,985\n",
            "Non-trainable params: 0\n",
            "_________________________________________________________________\n"
          ],
          "name": "stdout"
        }
      ]
    },
    {
      "cell_type": "code",
      "metadata": {
        "id": "8dBWtAEwadih"
      },
      "source": [
        "#compiling the model"
      ],
      "execution_count": null,
      "outputs": []
    },
    {
      "cell_type": "code",
      "metadata": {
        "id": "GqHWVyQ2Y0rw"
      },
      "source": [
        "model_1.compile(optimizer='adam',\n",
        "                loss='sparse_categorical_crossentropy',\n",
        "                metrics=['accuracy'])"
      ],
      "execution_count": null,
      "outputs": []
    },
    {
      "cell_type": "code",
      "metadata": {
        "id": "r11XlY0Qaflr"
      },
      "source": [
        "#training the model"
      ],
      "execution_count": null,
      "outputs": []
    },
    {
      "cell_type": "code",
      "metadata": {
        "colab": {
          "base_uri": "https://localhost:8080/"
        },
        "id": "pKCKDYqbY35D",
        "outputId": "60b76710-7b62-4aef-f5a3-4c1f87df7d84"
      },
      "source": [
        "train_rt = TrainRuntimeCallback()\n",
        "history = model_1.fit(train_images, train_labels, callbacks=[train_rt], epochs=20, batch_size=100,\n",
        "                    validation_data=(val_images, val_labels))\n",
        "\n",
        "# Saving models locally after fitting\n",
        "save_dir = \"results/\"\n",
        "model_name = 'fashion_mnist_model_1.h5'\n",
        "model_path = os.path.join(save_dir, model_name)\n",
        "model_1.save(model_path)"
      ],
      "execution_count": null,
      "outputs": [
        {
          "output_type": "stream",
          "text": [
            "Epoch 1/20\n",
            "550/550 [==============================] - 1s 2ms/step - loss: 1.8298 - accuracy: 0.3590 - val_loss: 1.0563 - val_accuracy: 0.7034\n",
            "Epoch 2/20\n",
            "550/550 [==============================] - 1s 2ms/step - loss: 0.9494 - accuracy: 0.7194 - val_loss: 0.6535 - val_accuracy: 0.7846\n",
            "Epoch 3/20\n",
            "550/550 [==============================] - 1s 2ms/step - loss: 0.6413 - accuracy: 0.7875 - val_loss: 0.5835 - val_accuracy: 0.8096\n",
            "Epoch 4/20\n",
            "550/550 [==============================] - 1s 2ms/step - loss: 0.5724 - accuracy: 0.8090 - val_loss: 0.5502 - val_accuracy: 0.8138\n",
            "Epoch 5/20\n",
            "550/550 [==============================] - 1s 2ms/step - loss: 0.5533 - accuracy: 0.8121 - val_loss: 0.5279 - val_accuracy: 0.8230\n",
            "Epoch 6/20\n",
            "550/550 [==============================] - 1s 2ms/step - loss: 0.5293 - accuracy: 0.8175 - val_loss: 0.5145 - val_accuracy: 0.8288\n",
            "Epoch 7/20\n",
            "550/550 [==============================] - 1s 2ms/step - loss: 0.5154 - accuracy: 0.8255 - val_loss: 0.5108 - val_accuracy: 0.8294\n",
            "Epoch 8/20\n",
            "550/550 [==============================] - 1s 2ms/step - loss: 0.5007 - accuracy: 0.8259 - val_loss: 0.5053 - val_accuracy: 0.8282\n",
            "Epoch 9/20\n",
            "550/550 [==============================] - 1s 2ms/step - loss: 0.5006 - accuracy: 0.8266 - val_loss: 0.5042 - val_accuracy: 0.8292\n",
            "Epoch 10/20\n",
            "550/550 [==============================] - 1s 2ms/step - loss: 0.4951 - accuracy: 0.8289 - val_loss: 0.4969 - val_accuracy: 0.8316\n",
            "Epoch 11/20\n",
            "550/550 [==============================] - 1s 2ms/step - loss: 0.4882 - accuracy: 0.8307 - val_loss: 0.4961 - val_accuracy: 0.8316\n",
            "Epoch 12/20\n",
            "550/550 [==============================] - 1s 2ms/step - loss: 0.4793 - accuracy: 0.8325 - val_loss: 0.4964 - val_accuracy: 0.8310\n",
            "Epoch 13/20\n",
            "550/550 [==============================] - 1s 2ms/step - loss: 0.4783 - accuracy: 0.8334 - val_loss: 0.4896 - val_accuracy: 0.8344\n",
            "Epoch 14/20\n",
            "550/550 [==============================] - 1s 2ms/step - loss: 0.4757 - accuracy: 0.8340 - val_loss: 0.4904 - val_accuracy: 0.8338\n",
            "Epoch 15/20\n",
            "550/550 [==============================] - 1s 2ms/step - loss: 0.4736 - accuracy: 0.8349 - val_loss: 0.4850 - val_accuracy: 0.8362\n",
            "Epoch 16/20\n",
            "550/550 [==============================] - 1s 2ms/step - loss: 0.4698 - accuracy: 0.8326 - val_loss: 0.4849 - val_accuracy: 0.8346\n",
            "Epoch 17/20\n",
            "550/550 [==============================] - 1s 2ms/step - loss: 0.4663 - accuracy: 0.8369 - val_loss: 0.4900 - val_accuracy: 0.8330\n",
            "Epoch 18/20\n",
            "550/550 [==============================] - 1s 2ms/step - loss: 0.4636 - accuracy: 0.8392 - val_loss: 0.4860 - val_accuracy: 0.8356\n",
            "Epoch 19/20\n",
            "550/550 [==============================] - 1s 2ms/step - loss: 0.4674 - accuracy: 0.8368 - val_loss: 0.4875 - val_accuracy: 0.8384\n",
            "Epoch 20/20\n",
            "550/550 [==============================] - 1s 2ms/step - loss: 0.4655 - accuracy: 0.8378 - val_loss: 0.4851 - val_accuracy: 0.8342\n"
          ],
          "name": "stdout"
        }
      ]
    },
    {
      "cell_type": "code",
      "metadata": {
        "id": "Lh_cPFsdag-f"
      },
      "source": [
        "#setting up run time for the  model"
      ],
      "execution_count": null,
      "outputs": []
    },
    {
      "cell_type": "code",
      "metadata": {
        "id": "AsHeC4mhZFdR"
      },
      "source": [
        "class TrainRuntimeCallback(keras.callbacks.Callback):\n",
        "\n",
        "  def on_train_begin(self,logs={}):\n",
        "    self.start = datetime.datetime.now()\n",
        "\n",
        "  def on_train_end(self,logs={}):\n",
        "    self.process_time = (datetime.datetime.now() - self.start).total_seconds()"
      ],
      "execution_count": null,
      "outputs": []
    },
    {
      "cell_type": "code",
      "metadata": {
        "id": "w0RtLFyXZIAN"
      },
      "source": [
        "class TestRuntimeCallback(keras.callbacks.Callback):\n",
        "\n",
        "  def on_test_begin(self,logs={}):\n",
        "    self.start = datetime.datetime.now()\n",
        "\n",
        "  def on_test_end(self,logs={}):\n",
        "    self.process_time = (datetime.datetime.now() - self.start).total_seconds()"
      ],
      "execution_count": null,
      "outputs": []
    },
    {
      "cell_type": "code",
      "metadata": {
        "colab": {
          "base_uri": "https://localhost:8080/"
        },
        "id": "vEeoasv8ZJre",
        "outputId": "449fdd2e-2cd5-4f81-8127-d06365990cba"
      },
      "source": [
        "train_time = train_rt.process_time\n",
        "train_time "
      ],
      "execution_count": null,
      "outputs": [
        {
          "output_type": "execute_result",
          "data": {
            "text/plain": [
              "20.172836"
            ]
          },
          "metadata": {
            "tags": []
          },
          "execution_count": 89
        }
      ]
    },
    {
      "cell_type": "code",
      "metadata": {
        "id": "CHuUtE_1ajPn"
      },
      "source": [
        "#adding weights"
      ],
      "execution_count": null,
      "outputs": []
    },
    {
      "cell_type": "code",
      "metadata": {
        "id": "_rG7WuWJakQ4"
      },
      "source": [
        ""
      ],
      "execution_count": null,
      "outputs": []
    },
    {
      "cell_type": "code",
      "metadata": {
        "colab": {
          "base_uri": "https://localhost:8080/"
        },
        "id": "j9_RmgbkZM9n",
        "outputId": "dca44645-0e6e-42af-93aa-8b8b8b6ba7a9"
      },
      "source": [
        "model_1.layers[1].weights"
      ],
      "execution_count": null,
      "outputs": [
        {
          "output_type": "execute_result",
          "data": {
            "text/plain": [
              "[<tf.Variable 'dense/kernel:0' shape=(784, 5) dtype=float32, numpy=\n",
              " array([[-0.0849561 , -0.02450576,  0.5867725 , -0.1840325 , -0.30403835],\n",
              "        [-0.13381866,  0.01560653,  0.09165822, -0.07803594,  0.00608644],\n",
              "        [ 0.39040878, -0.40665144, -0.47576365, -0.4887883 , -0.10543999],\n",
              "        ...,\n",
              "        [ 0.474435  ,  0.41354388,  0.10598858, -0.03145833,  0.23590465],\n",
              "        [ 0.00998949,  0.60049903, -0.11730639, -0.19239679,  0.39222434],\n",
              "        [ 0.07809   ,  0.43139693,  0.2116204 , -0.48969594,  0.10832094]],\n",
              "       dtype=float32)>,\n",
              " <tf.Variable 'dense/bias:0' shape=(5,) dtype=float32, numpy=\n",
              " array([ 1.0045769 ,  0.8961467 ,  0.6753065 ,  0.9230633 , -0.32683718],\n",
              "       dtype=float32)>]"
            ]
          },
          "metadata": {
            "tags": []
          },
          "execution_count": 90
        }
      ]
    },
    {
      "cell_type": "code",
      "metadata": {
        "colab": {
          "base_uri": "https://localhost:8080/"
        },
        "id": "obtTR-WtZRw8",
        "outputId": "ef421e4b-ff46-4410-9a81-4d75b2f53e25"
      },
      "source": [
        "test_rt = TestRuntimeCallback()\n",
        "test_loss, test_acc = model_1.evaluate(test_images, test_labels, callbacks=[test_rt])\n",
        "test_time = test_rt.process_time\n",
        "test_time # in seconds"
      ],
      "execution_count": null,
      "outputs": [
        {
          "output_type": "stream",
          "text": [
            "313/313 [==============================] - 1s 1ms/step - loss: 0.5112 - accuracy: 0.8244\n"
          ],
          "name": "stdout"
        },
        {
          "output_type": "execute_result",
          "data": {
            "text/plain": [
              "0.52962"
            ]
          },
          "metadata": {
            "tags": []
          },
          "execution_count": 91
        }
      ]
    },
    {
      "cell_type": "code",
      "metadata": {
        "id": "Suay7nTvalBL"
      },
      "source": [
        "#creating a results table and testing accuracy by plotting the model"
      ],
      "execution_count": null,
      "outputs": []
    },
    {
      "cell_type": "code",
      "metadata": {
        "colab": {
          "base_uri": "https://localhost:8080/"
        },
        "id": "9vPDQ8q-ZUcX",
        "outputId": "9f417327-1783-408d-e843-1957518638c6"
      },
      "source": [
        "history_dict = history.history\n",
        "history_dict.keys()"
      ],
      "execution_count": null,
      "outputs": [
        {
          "output_type": "execute_result",
          "data": {
            "text/plain": [
              "dict_keys(['loss', 'accuracy', 'val_loss', 'val_accuracy'])"
            ]
          },
          "metadata": {
            "tags": []
          },
          "execution_count": 92
        }
      ]
    },
    {
      "cell_type": "code",
      "metadata": {
        "colab": {
          "base_uri": "https://localhost:8080/",
          "height": 204
        },
        "id": "g2clb9A0ZYG9",
        "outputId": "982e6b2a-56f7-4fd3-9171-5cecc9806796"
      },
      "source": [
        "history_df=pd.DataFrame(history_dict)\n",
        "history_df.tail()"
      ],
      "execution_count": null,
      "outputs": [
        {
          "output_type": "execute_result",
          "data": {
            "text/html": [
              "<div>\n",
              "<style scoped>\n",
              "    .dataframe tbody tr th:only-of-type {\n",
              "        vertical-align: middle;\n",
              "    }\n",
              "\n",
              "    .dataframe tbody tr th {\n",
              "        vertical-align: top;\n",
              "    }\n",
              "\n",
              "    .dataframe thead th {\n",
              "        text-align: right;\n",
              "    }\n",
              "</style>\n",
              "<table border=\"1\" class=\"dataframe\">\n",
              "  <thead>\n",
              "    <tr style=\"text-align: right;\">\n",
              "      <th></th>\n",
              "      <th>loss</th>\n",
              "      <th>accuracy</th>\n",
              "      <th>val_loss</th>\n",
              "      <th>val_accuracy</th>\n",
              "    </tr>\n",
              "  </thead>\n",
              "  <tbody>\n",
              "    <tr>\n",
              "      <th>15</th>\n",
              "      <td>0.472350</td>\n",
              "      <td>0.834200</td>\n",
              "      <td>0.484858</td>\n",
              "      <td>0.8346</td>\n",
              "    </tr>\n",
              "    <tr>\n",
              "      <th>16</th>\n",
              "      <td>0.469477</td>\n",
              "      <td>0.835364</td>\n",
              "      <td>0.490041</td>\n",
              "      <td>0.8330</td>\n",
              "    </tr>\n",
              "    <tr>\n",
              "      <th>17</th>\n",
              "      <td>0.467037</td>\n",
              "      <td>0.837309</td>\n",
              "      <td>0.485983</td>\n",
              "      <td>0.8356</td>\n",
              "    </tr>\n",
              "    <tr>\n",
              "      <th>18</th>\n",
              "      <td>0.466209</td>\n",
              "      <td>0.837127</td>\n",
              "      <td>0.487460</td>\n",
              "      <td>0.8384</td>\n",
              "    </tr>\n",
              "    <tr>\n",
              "      <th>19</th>\n",
              "      <td>0.463785</td>\n",
              "      <td>0.837818</td>\n",
              "      <td>0.485111</td>\n",
              "      <td>0.8342</td>\n",
              "    </tr>\n",
              "  </tbody>\n",
              "</table>\n",
              "</div>"
            ],
            "text/plain": [
              "        loss  accuracy  val_loss  val_accuracy\n",
              "15  0.472350  0.834200  0.484858        0.8346\n",
              "16  0.469477  0.835364  0.490041        0.8330\n",
              "17  0.467037  0.837309  0.485983        0.8356\n",
              "18  0.466209  0.837127  0.487460        0.8384\n",
              "19  0.463785  0.837818  0.485111        0.8342"
            ]
          },
          "metadata": {
            "tags": []
          },
          "execution_count": 93
        }
      ]
    },
    {
      "cell_type": "code",
      "metadata": {
        "id": "ur1dTD4PZZCr"
      },
      "source": [
        "results_df = history_df.iloc[-1:].copy()\n",
        "results_df.insert(0,'model','DNN (2 layers no regularization)') \n",
        "results_df['training time (sec)'] = train_time     \n",
        "results_df['testing time (sec)'] = test_time     "
      ],
      "execution_count": null,
      "outputs": []
    },
    {
      "cell_type": "code",
      "metadata": {
        "colab": {
          "base_uri": "https://localhost:8080/",
          "height": 80
        },
        "id": "2A_eh0-tZglA",
        "outputId": "d33b7f8b-debd-428a-b266-409db38d6da1"
      },
      "source": [
        "results_df"
      ],
      "execution_count": null,
      "outputs": [
        {
          "output_type": "execute_result",
          "data": {
            "text/html": [
              "<div>\n",
              "<style scoped>\n",
              "    .dataframe tbody tr th:only-of-type {\n",
              "        vertical-align: middle;\n",
              "    }\n",
              "\n",
              "    .dataframe tbody tr th {\n",
              "        vertical-align: top;\n",
              "    }\n",
              "\n",
              "    .dataframe thead th {\n",
              "        text-align: right;\n",
              "    }\n",
              "</style>\n",
              "<table border=\"1\" class=\"dataframe\">\n",
              "  <thead>\n",
              "    <tr style=\"text-align: right;\">\n",
              "      <th></th>\n",
              "      <th>model</th>\n",
              "      <th>loss</th>\n",
              "      <th>accuracy</th>\n",
              "      <th>val_loss</th>\n",
              "      <th>val_accuracy</th>\n",
              "      <th>training time (sec)</th>\n",
              "      <th>testing time (sec)</th>\n",
              "    </tr>\n",
              "  </thead>\n",
              "  <tbody>\n",
              "    <tr>\n",
              "      <th>19</th>\n",
              "      <td>DNN (2 layers)</td>\n",
              "      <td>0.463785</td>\n",
              "      <td>0.837818</td>\n",
              "      <td>0.485111</td>\n",
              "      <td>0.8342</td>\n",
              "      <td>20.172836</td>\n",
              "      <td>0.52962</td>\n",
              "    </tr>\n",
              "  </tbody>\n",
              "</table>\n",
              "</div>"
            ],
            "text/plain": [
              "             model      loss  ...  training time (sec)  testing time (sec)\n",
              "19  DNN (2 layers)  0.463785  ...            20.172836             0.52962\n",
              "\n",
              "[1 rows x 7 columns]"
            ]
          },
          "metadata": {
            "tags": []
          },
          "execution_count": 99
        }
      ]
    },
    {
      "cell_type": "code",
      "metadata": {
        "colab": {
          "base_uri": "https://localhost:8080/",
          "height": 324
        },
        "id": "oOHsXS0gZnJx",
        "outputId": "0809b482-5540-402c-f025-f360fdd66688"
      },
      "source": [
        "pd.DataFrame(history.history).plot(figsize=(8, 5))\n",
        "plt.grid(True)\n",
        "plt.gca().set_ylim(0, 1) # set the vertical range to [0-1]\n",
        "\n",
        "plt.show()"
      ],
      "execution_count": null,
      "outputs": [
        {
          "output_type": "display_data",
          "data": {
            "image/png": "[encoded data removed]",
            "text/plain": [
              "<Figure size 576x360 with 1 Axes>"
            ]
          },
          "metadata": {
            "tags": [],
            "needs_background": "light"
          }
        }
      ]
    },
    {
      "cell_type": "markdown",
      "metadata": {
        "id": "VnZ8SBCxaowL"
      },
      "source": [
        "**Experiment 2:  784 input nodes, a hidden layer with 10 nodes, another hidden layer with 5 nodes and 10 output nodes corresponding to the 10 categories in the dataset.**"
      ]
    },
    {
      "cell_type": "code",
      "metadata": {
        "id": "HfHoifTrauGm"
      },
      "source": [
        "#building the model"
      ],
      "execution_count": null,
      "outputs": []
    },
    {
      "cell_type": "code",
      "metadata": {
        "id": "NFt_BwJiaxuV"
      },
      "source": [
        "model_2 = models.Sequential([\n",
        "    keras.layers.Flatten(input_shape=[28, 28]),\n",
        "    keras.layers.Dense(10, activation=\"relu\"),\n",
        "    keras.layers.Dense(5, activation=\"relu\"),\n",
        "    keras.layers.Dense(10, activation=\"softmax\")\n",
        "])"
      ],
      "execution_count": null,
      "outputs": []
    },
    {
      "cell_type": "code",
      "metadata": {
        "colab": {
          "base_uri": "https://localhost:8080/"
        },
        "id": "XJWD3K8ma09G",
        "outputId": "b668dac9-4c5e-4679-ccc8-3cbbd5306090"
      },
      "source": [
        "model_2.summary()"
      ],
      "execution_count": null,
      "outputs": [
        {
          "output_type": "stream",
          "text": [
            "Model: \"sequential_1\"\n",
            "_________________________________________________________________\n",
            "Layer (type)                 Output Shape              Param #   \n",
            "=================================================================\n",
            "flatten_1 (Flatten)          (None, 784)               0         \n",
            "_________________________________________________________________\n",
            "dense_2 (Dense)              (None, 10)                7850      \n",
            "_________________________________________________________________\n",
            "dense_3 (Dense)              (None, 5)                 55        \n",
            "_________________________________________________________________\n",
            "dense_4 (Dense)              (None, 10)                60        \n",
            "=================================================================\n",
            "Total params: 7,965\n",
            "Trainable params: 7,965\n",
            "Non-trainable params: 0\n",
            "_________________________________________________________________\n"
          ],
          "name": "stdout"
        }
      ]
    },
    {
      "cell_type": "code",
      "metadata": {
        "id": "stbUub5na3Lz"
      },
      "source": [
        "#compiling the model"
      ],
      "execution_count": null,
      "outputs": []
    },
    {
      "cell_type": "code",
      "metadata": {
        "id": "gT6dTJsba8Xx"
      },
      "source": [
        "model_2.compile(optimizer='adam',\n",
        "                loss='sparse_categorical_crossentropy',\n",
        "                metrics=['accuracy'])"
      ],
      "execution_count": null,
      "outputs": []
    },
    {
      "cell_type": "code",
      "metadata": {
        "colab": {
          "base_uri": "https://localhost:8080/"
        },
        "id": "pX46js1Ja4TR",
        "outputId": "59c94736-a3b0-4990-9392-73313ec1d071"
      },
      "source": [
        "train_rt = TrainRuntimeCallback()\n",
        "history = model_2.fit(train_images, train_labels, callbacks=[train_rt], epochs=20, batch_size = 100,\n",
        "                    validation_data=(val_images, val_labels))\n",
        "\n",
        "# Saving models locally after fitting\n",
        "save_dir = \"results/\"\n",
        "model_name = 'fashion_mnist_model_2.h5'\n",
        "model_path = os.path.join(save_dir, model_name)\n",
        "model_2.save(model_path)\n",
        "print('Saved trained model at %s ' % model_path)"
      ],
      "execution_count": null,
      "outputs": [
        {
          "output_type": "stream",
          "text": [
            "Epoch 1/20\n",
            "550/550 [==============================] - 2s 2ms/step - loss: 1.5204 - accuracy: 0.4524 - val_loss: 0.6242 - val_accuracy: 0.7888\n",
            "Epoch 2/20\n",
            "550/550 [==============================] - 1s 2ms/step - loss: 0.6150 - accuracy: 0.7897 - val_loss: 0.5157 - val_accuracy: 0.8228\n",
            "Epoch 3/20\n",
            "550/550 [==============================] - 1s 2ms/step - loss: 0.5263 - accuracy: 0.8196 - val_loss: 0.4998 - val_accuracy: 0.8288\n",
            "Epoch 4/20\n",
            "550/550 [==============================] - 1s 2ms/step - loss: 0.4980 - accuracy: 0.8280 - val_loss: 0.4669 - val_accuracy: 0.8388\n",
            "Epoch 5/20\n",
            "550/550 [==============================] - 1s 2ms/step - loss: 0.4786 - accuracy: 0.8336 - val_loss: 0.4499 - val_accuracy: 0.8436\n",
            "Epoch 6/20\n",
            "550/550 [==============================] - 1s 2ms/step - loss: 0.4540 - accuracy: 0.8433 - val_loss: 0.4362 - val_accuracy: 0.8518\n",
            "Epoch 7/20\n",
            "550/550 [==============================] - 1s 2ms/step - loss: 0.4406 - accuracy: 0.8478 - val_loss: 0.4277 - val_accuracy: 0.8554\n",
            "Epoch 8/20\n",
            "550/550 [==============================] - 1s 2ms/step - loss: 0.4262 - accuracy: 0.8535 - val_loss: 0.4317 - val_accuracy: 0.8564\n",
            "Epoch 9/20\n",
            "550/550 [==============================] - 1s 2ms/step - loss: 0.4277 - accuracy: 0.8504 - val_loss: 0.4272 - val_accuracy: 0.8578\n",
            "Epoch 10/20\n",
            "550/550 [==============================] - 1s 2ms/step - loss: 0.4136 - accuracy: 0.8572 - val_loss: 0.4184 - val_accuracy: 0.8604\n",
            "Epoch 11/20\n",
            "550/550 [==============================] - 1s 2ms/step - loss: 0.4114 - accuracy: 0.8569 - val_loss: 0.4181 - val_accuracy: 0.8628\n",
            "Epoch 12/20\n",
            "550/550 [==============================] - 1s 2ms/step - loss: 0.4025 - accuracy: 0.8610 - val_loss: 0.4109 - val_accuracy: 0.8612\n",
            "Epoch 13/20\n",
            "550/550 [==============================] - 1s 2ms/step - loss: 0.4049 - accuracy: 0.8585 - val_loss: 0.4311 - val_accuracy: 0.8554\n",
            "Epoch 14/20\n",
            "550/550 [==============================] - 1s 2ms/step - loss: 0.4005 - accuracy: 0.8611 - val_loss: 0.4128 - val_accuracy: 0.8636\n",
            "Epoch 15/20\n",
            "550/550 [==============================] - 1s 2ms/step - loss: 0.4011 - accuracy: 0.8601 - val_loss: 0.4048 - val_accuracy: 0.8616\n",
            "Epoch 16/20\n",
            "550/550 [==============================] - 1s 2ms/step - loss: 0.3914 - accuracy: 0.8631 - val_loss: 0.4217 - val_accuracy: 0.8588\n",
            "Epoch 17/20\n",
            "550/550 [==============================] - 1s 2ms/step - loss: 0.3852 - accuracy: 0.8651 - val_loss: 0.4037 - val_accuracy: 0.8634\n",
            "Epoch 18/20\n",
            "550/550 [==============================] - 1s 2ms/step - loss: 0.3856 - accuracy: 0.8649 - val_loss: 0.3999 - val_accuracy: 0.8660\n",
            "Epoch 19/20\n",
            "550/550 [==============================] - 1s 2ms/step - loss: 0.3889 - accuracy: 0.8644 - val_loss: 0.4100 - val_accuracy: 0.8624\n",
            "Epoch 20/20\n",
            "550/550 [==============================] - 1s 2ms/step - loss: 0.3907 - accuracy: 0.8645 - val_loss: 0.3993 - val_accuracy: 0.8646\n",
            "Saved trained model at results/fashion_mnist_model_2.h5 \n"
          ],
          "name": "stdout"
        }
      ]
    },
    {
      "cell_type": "code",
      "metadata": {
        "id": "XWjTPmdHbD5R"
      },
      "source": [
        "#getting the runtime of testing"
      ],
      "execution_count": null,
      "outputs": []
    },
    {
      "cell_type": "code",
      "metadata": {
        "colab": {
          "base_uri": "https://localhost:8080/"
        },
        "id": "eujhlhUTbFze",
        "outputId": "deba6a33-ee94-4f82-e0ec-b680966d9058"
      },
      "source": [
        "test_rt = TestRuntimeCallback()\n",
        "test_loss, test_acc = model_2.evaluate(test_images, test_labels, callbacks=[test_rt])\n",
        "test_time = test_rt.process_time\n",
        "test_time "
      ],
      "execution_count": null,
      "outputs": [
        {
          "output_type": "stream",
          "text": [
            "313/313 [==============================] - 1s 1ms/step - loss: 0.4413 - accuracy: 0.8459\n"
          ],
          "name": "stdout"
        },
        {
          "output_type": "execute_result",
          "data": {
            "text/plain": [
              "0.525655"
            ]
          },
          "metadata": {
            "tags": []
          },
          "execution_count": 107
        }
      ]
    },
    {
      "cell_type": "code",
      "metadata": {
        "id": "PxyP2U1_bKe1"
      },
      "source": [
        "#seeing results and storing them in dataframe then plotting the accuracy and loss"
      ],
      "execution_count": null,
      "outputs": []
    },
    {
      "cell_type": "code",
      "metadata": {
        "colab": {
          "base_uri": "https://localhost:8080/",
          "height": 204
        },
        "id": "fLpndd38bNa3",
        "outputId": "473edee3-5b62-4904-e6a0-70268a035ef2"
      },
      "source": [
        "history_dict = history.history\n",
        "history_dict.keys()\n",
        "history_df=pd.DataFrame(history_dict)\n",
        "history_df.tail()"
      ],
      "execution_count": null,
      "outputs": [
        {
          "output_type": "execute_result",
          "data": {
            "text/html": [
              "<div>\n",
              "<style scoped>\n",
              "    .dataframe tbody tr th:only-of-type {\n",
              "        vertical-align: middle;\n",
              "    }\n",
              "\n",
              "    .dataframe tbody tr th {\n",
              "        vertical-align: top;\n",
              "    }\n",
              "\n",
              "    .dataframe thead th {\n",
              "        text-align: right;\n",
              "    }\n",
              "</style>\n",
              "<table border=\"1\" class=\"dataframe\">\n",
              "  <thead>\n",
              "    <tr style=\"text-align: right;\">\n",
              "      <th></th>\n",
              "      <th>loss</th>\n",
              "      <th>accuracy</th>\n",
              "      <th>val_loss</th>\n",
              "      <th>val_accuracy</th>\n",
              "    </tr>\n",
              "  </thead>\n",
              "  <tbody>\n",
              "    <tr>\n",
              "      <th>15</th>\n",
              "      <td>0.395330</td>\n",
              "      <td>0.863236</td>\n",
              "      <td>0.421674</td>\n",
              "      <td>0.8588</td>\n",
              "    </tr>\n",
              "    <tr>\n",
              "      <th>16</th>\n",
              "      <td>0.392718</td>\n",
              "      <td>0.862345</td>\n",
              "      <td>0.403674</td>\n",
              "      <td>0.8634</td>\n",
              "    </tr>\n",
              "    <tr>\n",
              "      <th>17</th>\n",
              "      <td>0.389529</td>\n",
              "      <td>0.864600</td>\n",
              "      <td>0.399852</td>\n",
              "      <td>0.8660</td>\n",
              "    </tr>\n",
              "    <tr>\n",
              "      <th>18</th>\n",
              "      <td>0.388750</td>\n",
              "      <td>0.864691</td>\n",
              "      <td>0.410033</td>\n",
              "      <td>0.8624</td>\n",
              "    </tr>\n",
              "    <tr>\n",
              "      <th>19</th>\n",
              "      <td>0.386725</td>\n",
              "      <td>0.864255</td>\n",
              "      <td>0.399334</td>\n",
              "      <td>0.8646</td>\n",
              "    </tr>\n",
              "  </tbody>\n",
              "</table>\n",
              "</div>"
            ],
            "text/plain": [
              "        loss  accuracy  val_loss  val_accuracy\n",
              "15  0.395330  0.863236  0.421674        0.8588\n",
              "16  0.392718  0.862345  0.403674        0.8634\n",
              "17  0.389529  0.864600  0.399852        0.8660\n",
              "18  0.388750  0.864691  0.410033        0.8624\n",
              "19  0.386725  0.864255  0.399334        0.8646"
            ]
          },
          "metadata": {
            "tags": []
          },
          "execution_count": 108
        }
      ]
    },
    {
      "cell_type": "code",
      "metadata": {
        "colab": {
          "base_uri": "https://localhost:8080/",
          "height": 80
        },
        "id": "tdDtLu_dbSK-",
        "outputId": "ba13c577-9385-48e5-8108-a023ef05e481"
      },
      "source": [
        "history_dict = history.history\n",
        "history_df=pd.DataFrame(history_dict)\n",
        "results_df2 = history_df.iloc[-1:].copy()\n",
        "results_df2.insert(0,'model','DNN (3 layers)') \n",
        "results_df2['training time (sec)'] = train_time      \n",
        "results_df2['testing time (sec)'] = test_time      \n",
        "results_df2"
      ],
      "execution_count": null,
      "outputs": [
        {
          "output_type": "execute_result",
          "data": {
            "text/html": [
              "<div>\n",
              "<style scoped>\n",
              "    .dataframe tbody tr th:only-of-type {\n",
              "        vertical-align: middle;\n",
              "    }\n",
              "\n",
              "    .dataframe tbody tr th {\n",
              "        vertical-align: top;\n",
              "    }\n",
              "\n",
              "    .dataframe thead th {\n",
              "        text-align: right;\n",
              "    }\n",
              "</style>\n",
              "<table border=\"1\" class=\"dataframe\">\n",
              "  <thead>\n",
              "    <tr style=\"text-align: right;\">\n",
              "      <th></th>\n",
              "      <th>model</th>\n",
              "      <th>loss</th>\n",
              "      <th>accuracy</th>\n",
              "      <th>val_loss</th>\n",
              "      <th>val_accuracy</th>\n",
              "      <th>training time (sec)</th>\n",
              "      <th>testing time (sec)</th>\n",
              "    </tr>\n",
              "  </thead>\n",
              "  <tbody>\n",
              "    <tr>\n",
              "      <th>19</th>\n",
              "      <td>DNN (3 layers)</td>\n",
              "      <td>0.386725</td>\n",
              "      <td>0.864255</td>\n",
              "      <td>0.399334</td>\n",
              "      <td>0.8646</td>\n",
              "      <td>20.172836</td>\n",
              "      <td>0.525655</td>\n",
              "    </tr>\n",
              "  </tbody>\n",
              "</table>\n",
              "</div>"
            ],
            "text/plain": [
              "             model      loss  ...  training time (sec)  testing time (sec)\n",
              "19  DNN (3 layers)  0.386725  ...            20.172836            0.525655\n",
              "\n",
              "[1 rows x 7 columns]"
            ]
          },
          "metadata": {
            "tags": []
          },
          "execution_count": 111
        }
      ]
    },
    {
      "cell_type": "code",
      "metadata": {
        "id": "gGscS9Npbi8Y",
        "colab": {
          "base_uri": "https://localhost:8080/",
          "height": 324
        },
        "outputId": "d43854bc-d25c-48fd-b89d-b982541180a9"
      },
      "source": [
        "pd.DataFrame(history.history).plot(figsize=(8, 5))\n",
        "plt.grid(True)\n",
        "plt.gca().set_ylim(0, 1) # set the vertical range to [0-1]\n",
        "plt.show()"
      ],
      "execution_count": null,
      "outputs": [
        {
          "output_type": "display_data",
          "data": {
            "image/png": "[encoded data removed]",
            "text/plain": [
              "<Figure size 576x360 with 1 Axes>"
            ]
          },
          "metadata": {
            "tags": [],
            "needs_background": "light"
          }
        }
      ]
    },
    {
      "cell_type": "markdown",
      "metadata": {
        "id": "tM2EfRlJA8Bp"
      },
      "source": [
        "Experiment 3:\n",
        "\n",
        "We create a CNN with 2 convolution/max pooling layers (no drop out) to work with our Fashion MNIST dataset. All layers will use the ReLU activation function. We are going to build a CNN with 2 convolutional/max pooling layers. The last layer is a 10-way \"softmax\" layer, which means it will return an array of 10 probability scores (summing to 1). E"
      ]
    },
    {
      "cell_type": "code",
      "metadata": {
        "id": "Cpe9t7bFEjBE"
      },
      "source": [
        "#reshaping data"
      ],
      "execution_count": null,
      "outputs": []
    },
    {
      "cell_type": "code",
      "metadata": {
        "colab": {
          "base_uri": "https://localhost:8080/"
        },
        "id": "GD-fn_rVEoaz",
        "outputId": "e5257641-222d-466d-d1da-b5a2de490205"
      },
      "source": [
        "from tensorflow.keras.datasets import fashion_mnist\n",
        "\n",
        "(train_images, train_labels), (test_images, test_labels) = fashion_mnist.load_data()\n",
        "train_images.shape, test_images.shape, test_labels.shape, test_labels.shape"
      ],
      "execution_count": 114,
      "outputs": [
        {
          "output_type": "execute_result",
          "data": {
            "text/plain": [
              "((60000, 28, 28), (10000, 28, 28), (10000,), (10000,))"
            ]
          },
          "metadata": {
            "tags": []
          },
          "execution_count": 114
        }
      ]
    },
    {
      "cell_type": "code",
      "metadata": {
        "id": "1XX3maZyErEw"
      },
      "source": [
        "train_images = train_images.reshape((60000, 28, 28, 1))\n",
        "train_images = train_images.astype('float32') / 255\n",
        "\n",
        "test_images = test_images.reshape((10000, 28, 28, 1))\n",
        "test_images = test_images.astype('float32') / 255"
      ],
      "execution_count": 117,
      "outputs": []
    },
    {
      "cell_type": "code",
      "metadata": {
        "id": "DrEl51WIEuwH"
      },
      "source": [
        "val_images, train_images = train_images[:5000], train_images[5000:] \n",
        "val_labels, train_labels = train_labels[:5000], train_labels[5000:]"
      ],
      "execution_count": 118,
      "outputs": []
    },
    {
      "cell_type": "code",
      "metadata": {
        "id": "Ybg46b9EEx6W"
      },
      "source": [
        "#build the model network"
      ],
      "execution_count": null,
      "outputs": []
    },
    {
      "cell_type": "code",
      "metadata": {
        "id": "Bzj3mKk7E0Qc"
      },
      "source": [
        "model_3a = models.Sequential()\n",
        "model_3a.add(layers.Conv2D(32, (3, 3), activation='relu', input_shape=(28, 28, 1)))\n",
        "model_3a.add(layers.MaxPooling2D((2, 2)))\n",
        "model_3a.add(layers.Conv2D(64, (3, 3), activation='relu'))\n",
        "model_3a.add(layers.MaxPooling2D((2, 2)))\n",
        "model_3a.add(layers.Flatten())\n",
        "model_3a.add(layers.Dense(128, activation='relu'))\n",
        "model_3a.add(layers.Dense(10, activation='softmax'))"
      ],
      "execution_count": 119,
      "outputs": []
    },
    {
      "cell_type": "code",
      "metadata": {
        "colab": {
          "base_uri": "https://localhost:8080/"
        },
        "id": "kDQDhGi_FEUy",
        "outputId": "d4a9f530-f1f9-4d2c-9048-415d43b0ef7b"
      },
      "source": [
        "model_3a.summary()"
      ],
      "execution_count": 120,
      "outputs": [
        {
          "output_type": "stream",
          "text": [
            "Model: \"sequential_2\"\n",
            "_________________________________________________________________\n",
            "Layer (type)                 Output Shape              Param #   \n",
            "=================================================================\n",
            "conv2d (Conv2D)              (None, 26, 26, 32)        320       \n",
            "_________________________________________________________________\n",
            "max_pooling2d (MaxPooling2D) (None, 13, 13, 32)        0         \n",
            "_________________________________________________________________\n",
            "conv2d_1 (Conv2D)            (None, 11, 11, 64)        18496     \n",
            "_________________________________________________________________\n",
            "max_pooling2d_1 (MaxPooling2 (None, 5, 5, 64)          0         \n",
            "_________________________________________________________________\n",
            "flatten_2 (Flatten)          (None, 1600)              0         \n",
            "_________________________________________________________________\n",
            "dense_5 (Dense)              (None, 128)               204928    \n",
            "_________________________________________________________________\n",
            "dense_6 (Dense)              (None, 10)                1290      \n",
            "=================================================================\n",
            "Total params: 225,034\n",
            "Trainable params: 225,034\n",
            "Non-trainable params: 0\n",
            "_________________________________________________________________\n"
          ],
          "name": "stdout"
        }
      ]
    },
    {
      "cell_type": "code",
      "metadata": {
        "id": "ATPlIYS3FI2S"
      },
      "source": [
        ""
      ],
      "execution_count": null,
      "outputs": []
    },
    {
      "cell_type": "code",
      "metadata": {
        "id": "qTcfGqCaFI4Z"
      },
      "source": [
        ""
      ],
      "execution_count": 123,
      "outputs": []
    },
    {
      "cell_type": "code",
      "metadata": {
        "id": "Zetl2G6KFI56"
      },
      "source": [
        ""
      ],
      "execution_count": null,
      "outputs": []
    },
    {
      "cell_type": "code",
      "metadata": {
        "id": "B8la9kTHFI9I"
      },
      "source": [
        ""
      ],
      "execution_count": null,
      "outputs": []
    },
    {
      "cell_type": "code",
      "metadata": {
        "id": "qw5ezAVdFI-x"
      },
      "source": [
        ""
      ],
      "execution_count": null,
      "outputs": []
    },
    {
      "cell_type": "code",
      "metadata": {
        "id": "G4OjYe_JFJBD"
      },
      "source": [
        ""
      ],
      "execution_count": null,
      "outputs": []
    }
  ]
}