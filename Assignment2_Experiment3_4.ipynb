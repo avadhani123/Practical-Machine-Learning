{
  "nbformat": 4,
  "nbformat_minor": 0,
  "metadata": {
    "colab": {
      "name": "Assignment2_Experiment3-4.ipynb",
      "provenance": [],
      "authorship_tag": "ABX9TyPHY8tD/3Pj5m6RvsEjcHUN",
      "include_colab_link": true
    },
    "kernelspec": {
      "name": "python3",
      "display_name": "Python 3"
    }
  },
  "cells": [
    {
      "cell_type": "markdown",
      "metadata": {
        "id": "view-in-github",
        "colab_type": "text"
      },
      "source": [
        "<a href=\"https://colab.research.google.com/github/avadhani123/Practical-Machine-Learning/blob/master/Assignment2_Experiment3_4.ipynb\" target=\"_parent\"><img src=\"https://colab.research.google.com/assets/colab-badge.svg\" alt=\"Open In Colab\"/></a>"
      ]
    },
    {
      "cell_type": "code",
      "metadata": {
        "id": "hJBt5201GHSm"
      },
      "source": [
        "import numpy as np\n",
        "import pandas as pd\n",
        "import os\n",
        "from collections import Counter\n",
        "import datetime\n",
        "\n",
        "import tensorflow as tf\n",
        "from tensorflow import keras\n",
        "from tensorflow.keras import models\n",
        "from tensorflow.keras import layers\n",
        "from tensorflow.keras import optimizers\n",
        "from tensorflow.keras import regularizers\n",
        "from tensorflow.keras.preprocessing.image import ImageDataGenerator\n",
        "from tensorflow.keras.preprocessing import image\n",
        "\n",
        "%matplotlib inline\n",
        "import matplotlib.pyplot as plt\n",
        "import seaborn as sns"
      ],
      "execution_count": 1,
      "outputs": []
    },
    {
      "cell_type": "code",
      "metadata": {
        "colab": {
          "base_uri": "https://localhost:8080/",
          "height": 35
        },
        "id": "xx0hNnw1GOXK",
        "outputId": "803beff3-928e-4912-f064-718df581a32d"
      },
      "source": [
        "keras.__version__"
      ],
      "execution_count": 2,
      "outputs": [
        {
          "output_type": "execute_result",
          "data": {
            "application/vnd.google.colaboratory.intrinsic+json": {
              "type": "string"
            },
            "text/plain": [
              "'2.4.0'"
            ]
          },
          "metadata": {
            "tags": []
          },
          "execution_count": 2
        }
      ]
    },
    {
      "cell_type": "markdown",
      "metadata": {
        "id": "cSSLAiAwGY0V"
      },
      "source": [
        "**Data Preprocessing**"
      ]
    },
    {
      "cell_type": "code",
      "metadata": {
        "colab": {
          "base_uri": "https://localhost:8080/"
        },
        "id": "rWkxZ-vKGT8C",
        "outputId": "2cc1e8c4-5e3e-4257-8cbf-55c7c56f0658"
      },
      "source": [
        "from tensorflow.keras.datasets import fashion_mnist\n",
        "\n",
        "(train_images, train_labels), (test_images, test_labels) = fashion_mnist.load_data()\n",
        "train_images.shape, test_images.shape, test_labels.shape, test_labels.shape"
      ],
      "execution_count": 3,
      "outputs": [
        {
          "output_type": "stream",
          "text": [
            "Downloading data from https://storage.googleapis.com/tensorflow/tf-keras-datasets/train-labels-idx1-ubyte.gz\n",
            "32768/29515 [=================================] - 0s 0us/step\n",
            "Downloading data from https://storage.googleapis.com/tensorflow/tf-keras-datasets/train-images-idx3-ubyte.gz\n",
            "26427392/26421880 [==============================] - 0s 0us/step\n",
            "Downloading data from https://storage.googleapis.com/tensorflow/tf-keras-datasets/t10k-labels-idx1-ubyte.gz\n",
            "8192/5148 [===============================================] - 0s 0us/step\n",
            "Downloading data from https://storage.googleapis.com/tensorflow/tf-keras-datasets/t10k-images-idx3-ubyte.gz\n",
            "4423680/4422102 [==============================] - 0s 0us/step\n"
          ],
          "name": "stdout"
        },
        {
          "output_type": "execute_result",
          "data": {
            "text/plain": [
              "((60000, 28, 28), (10000, 28, 28), (10000,), (10000,))"
            ]
          },
          "metadata": {
            "tags": []
          },
          "execution_count": 3
        }
      ]
    },
    {
      "cell_type": "code",
      "metadata": {
        "id": "tqPBiyfbGVBM"
      },
      "source": [
        "train_images = train_images.reshape((60000, 28, 28, 1))\n",
        "train_images = train_images.astype('float32') / 255\n",
        "\n",
        "test_images = test_images.reshape((10000, 28, 28, 1))\n",
        "test_images = test_images.astype('float32') / 255"
      ],
      "execution_count": 4,
      "outputs": []
    },
    {
      "cell_type": "code",
      "metadata": {
        "id": "1MAvKDJ1GYCO"
      },
      "source": [
        "val_images, train_images = train_images[:5000], train_images[5000:] \n",
        "val_labels, train_labels = train_labels[:5000], train_labels[5000:]"
      ],
      "execution_count": 5,
      "outputs": []
    },
    {
      "cell_type": "markdown",
      "metadata": {
        "id": "NmLqOO8OKkdQ"
      },
      "source": [
        "**We create a CNN with 2 convolution/max pooling layers (no drop out) to work with our Fashion MNIST dataset. All layers will use the ReLU activation function.**"
      ]
    },
    {
      "cell_type": "code",
      "metadata": {
        "id": "UJ9PBkHQKUsr"
      },
      "source": [
        "#building the network "
      ],
      "execution_count": null,
      "outputs": []
    },
    {
      "cell_type": "code",
      "metadata": {
        "id": "6_NDWE-DGazH"
      },
      "source": [
        "model_3a = models.Sequential()\n",
        "model_3a.add(layers.Conv2D(32, (3, 3), activation='relu', input_shape=(28, 28, 1)))\n",
        "model_3a.add(layers.MaxPooling2D((2, 2)))\n",
        "model_3a.add(layers.Conv2D(64, (3, 3), activation='relu'))\n",
        "model_3a.add(layers.MaxPooling2D((2, 2)))\n",
        "model_3a.add(layers.Flatten())\n",
        "model_3a.add(layers.Dense(128, activation='relu'))\n",
        "model_3a.add(layers.Dense(10, activation='softmax'))"
      ],
      "execution_count": 6,
      "outputs": []
    },
    {
      "cell_type": "code",
      "metadata": {
        "colab": {
          "base_uri": "https://localhost:8080/"
        },
        "id": "8VHpEh5nGjA7",
        "outputId": "e3c7f5e7-7eb8-4b39-c8ec-95868667bb37"
      },
      "source": [
        "model_3a.summary()"
      ],
      "execution_count": 7,
      "outputs": [
        {
          "output_type": "stream",
          "text": [
            "Model: \"sequential\"\n",
            "_________________________________________________________________\n",
            "Layer (type)                 Output Shape              Param #   \n",
            "=================================================================\n",
            "conv2d (Conv2D)              (None, 26, 26, 32)        320       \n",
            "_________________________________________________________________\n",
            "max_pooling2d (MaxPooling2D) (None, 13, 13, 32)        0         \n",
            "_________________________________________________________________\n",
            "conv2d_1 (Conv2D)            (None, 11, 11, 64)        18496     \n",
            "_________________________________________________________________\n",
            "max_pooling2d_1 (MaxPooling2 (None, 5, 5, 64)          0         \n",
            "_________________________________________________________________\n",
            "flatten (Flatten)            (None, 1600)              0         \n",
            "_________________________________________________________________\n",
            "dense (Dense)                (None, 128)               204928    \n",
            "_________________________________________________________________\n",
            "dense_1 (Dense)              (None, 10)                1290      \n",
            "=================================================================\n",
            "Total params: 225,034\n",
            "Trainable params: 225,034\n",
            "Non-trainable params: 0\n",
            "_________________________________________________________________\n"
          ],
          "name": "stdout"
        }
      ]
    },
    {
      "cell_type": "code",
      "metadata": {
        "id": "dFdB-sN3KWu1"
      },
      "source": [
        "#creating runtime classes "
      ],
      "execution_count": null,
      "outputs": []
    },
    {
      "cell_type": "code",
      "metadata": {
        "id": "KFM2bY-1Gu3B"
      },
      "source": [
        "class TrainRuntimeCallback(keras.callbacks.Callback):\n",
        "\n",
        "  def on_train_begin(self,logs={}):\n",
        "    self.start = datetime.datetime.now()\n",
        "\n",
        "  def on_train_end(self,logs={}):\n",
        "    self.process_time = (datetime.datetime.now() - self.start).total_seconds()"
      ],
      "execution_count": 10,
      "outputs": []
    },
    {
      "cell_type": "code",
      "metadata": {
        "id": "UL4T_uDsGvcu"
      },
      "source": [
        "class TestRuntimeCallback(keras.callbacks.Callback):\n",
        "\n",
        "  def on_test_begin(self,logs={}):\n",
        "    self.start = datetime.datetime.now()\n",
        "\n",
        "  def on_test_end(self,logs={}):\n",
        "    self.process_time = (datetime.datetime.now() - self.start).total_seconds()"
      ],
      "execution_count": 11,
      "outputs": []
    },
    {
      "cell_type": "code",
      "metadata": {
        "id": "mnQBza0bKb7k"
      },
      "source": [
        "#compiling the model"
      ],
      "execution_count": null,
      "outputs": []
    },
    {
      "cell_type": "code",
      "metadata": {
        "id": "KX8OWntXGmb7"
      },
      "source": [
        "model_3a.compile(optimizer='adam',\n",
        "                loss='sparse_categorical_crossentropy',\n",
        "                metrics=['accuracy'])"
      ],
      "execution_count": 12,
      "outputs": []
    },
    {
      "cell_type": "code",
      "metadata": {
        "id": "2sdCZ_44Kdza"
      },
      "source": [
        "#training the model"
      ],
      "execution_count": null,
      "outputs": []
    },
    {
      "cell_type": "code",
      "metadata": {
        "colab": {
          "base_uri": "https://localhost:8080/"
        },
        "id": "VLWjUJ7mGnZT",
        "outputId": "a3b48150-7353-45b9-cf2f-8e1f76067ecd"
      },
      "source": [
        "train_rt = TrainRuntimeCallback()\n",
        "history = model_3a.fit(train_images, train_labels, callbacks=[train_rt], epochs=20, batch_size = 100,\n",
        "                    validation_data=(val_images, val_labels))\n"
      ],
      "execution_count": 13,
      "outputs": [
        {
          "output_type": "stream",
          "text": [
            "Epoch 1/20\n",
            "550/550 [==============================] - 44s 79ms/step - loss: 0.7431 - accuracy: 0.7506 - val_loss: 0.3785 - val_accuracy: 0.8692\n",
            "Epoch 2/20\n",
            "550/550 [==============================] - 42s 77ms/step - loss: 0.3574 - accuracy: 0.8728 - val_loss: 0.3086 - val_accuracy: 0.8910\n",
            "Epoch 3/20\n",
            "550/550 [==============================] - 42s 77ms/step - loss: 0.3012 - accuracy: 0.8897 - val_loss: 0.3024 - val_accuracy: 0.8918\n",
            "Epoch 4/20\n",
            "550/550 [==============================] - 42s 77ms/step - loss: 0.2749 - accuracy: 0.9012 - val_loss: 0.2633 - val_accuracy: 0.9042\n",
            "Epoch 5/20\n",
            "550/550 [==============================] - 42s 76ms/step - loss: 0.2438 - accuracy: 0.9128 - val_loss: 0.2752 - val_accuracy: 0.9004\n",
            "Epoch 6/20\n",
            "550/550 [==============================] - 43s 77ms/step - loss: 0.2279 - accuracy: 0.9150 - val_loss: 0.2534 - val_accuracy: 0.9088\n",
            "Epoch 7/20\n",
            "550/550 [==============================] - 42s 77ms/step - loss: 0.2078 - accuracy: 0.9231 - val_loss: 0.2429 - val_accuracy: 0.9150\n",
            "Epoch 8/20\n",
            "550/550 [==============================] - 50s 91ms/step - loss: 0.1886 - accuracy: 0.9305 - val_loss: 0.2302 - val_accuracy: 0.9162\n",
            "Epoch 9/20\n",
            "550/550 [==============================] - 42s 77ms/step - loss: 0.1700 - accuracy: 0.9372 - val_loss: 0.2271 - val_accuracy: 0.9172\n",
            "Epoch 10/20\n",
            "550/550 [==============================] - 42s 77ms/step - loss: 0.1556 - accuracy: 0.9421 - val_loss: 0.2387 - val_accuracy: 0.9170\n",
            "Epoch 11/20\n",
            "550/550 [==============================] - 42s 76ms/step - loss: 0.1443 - accuracy: 0.9469 - val_loss: 0.2484 - val_accuracy: 0.9152\n",
            "Epoch 12/20\n",
            "550/550 [==============================] - 42s 76ms/step - loss: 0.1300 - accuracy: 0.9527 - val_loss: 0.2478 - val_accuracy: 0.9162\n",
            "Epoch 13/20\n",
            "550/550 [==============================] - 42s 76ms/step - loss: 0.1187 - accuracy: 0.9556 - val_loss: 0.2474 - val_accuracy: 0.9166\n",
            "Epoch 14/20\n",
            "550/550 [==============================] - 42s 76ms/step - loss: 0.1040 - accuracy: 0.9606 - val_loss: 0.2581 - val_accuracy: 0.9178\n",
            "Epoch 15/20\n",
            "550/550 [==============================] - 42s 76ms/step - loss: 0.0971 - accuracy: 0.9647 - val_loss: 0.2538 - val_accuracy: 0.9198\n",
            "Epoch 16/20\n",
            "550/550 [==============================] - 42s 76ms/step - loss: 0.0865 - accuracy: 0.9695 - val_loss: 0.2793 - val_accuracy: 0.9162\n",
            "Epoch 17/20\n",
            "550/550 [==============================] - 42s 76ms/step - loss: 0.0758 - accuracy: 0.9727 - val_loss: 0.2924 - val_accuracy: 0.9152\n",
            "Epoch 18/20\n",
            "550/550 [==============================] - 42s 77ms/step - loss: 0.0697 - accuracy: 0.9739 - val_loss: 0.3230 - val_accuracy: 0.9136\n",
            "Epoch 19/20\n",
            "550/550 [==============================] - 42s 76ms/step - loss: 0.0609 - accuracy: 0.9778 - val_loss: 0.3190 - val_accuracy: 0.9144\n",
            "Epoch 20/20\n",
            "550/550 [==============================] - 42s 77ms/step - loss: 0.0574 - accuracy: 0.9797 - val_loss: 0.3279 - val_accuracy: 0.9170\n"
          ],
          "name": "stdout"
        }
      ]
    },
    {
      "cell_type": "code",
      "metadata": {
        "id": "fu4G2kuOKgQj"
      },
      "source": [
        "#training and  time"
      ],
      "execution_count": null,
      "outputs": []
    },
    {
      "cell_type": "code",
      "metadata": {
        "colab": {
          "base_uri": "https://localhost:8080/"
        },
        "id": "3eOQnnxNKJHS",
        "outputId": "ad2e8d8c-0833-45f6-f087-1af9df7cd757"
      },
      "source": [
        "train_time = train_rt.process_time\n",
        "train_time # in seconds"
      ],
      "execution_count": 14,
      "outputs": [
        {
          "output_type": "execute_result",
          "data": {
            "text/plain": [
              "851.576519"
            ]
          },
          "metadata": {
            "tags": []
          },
          "execution_count": 14
        }
      ]
    },
    {
      "cell_type": "code",
      "metadata": {
        "colab": {
          "base_uri": "https://localhost:8080/"
        },
        "id": "1TlDnOY7KNS1",
        "outputId": "9c7b0965-6ca9-4654-d8e9-b3eec7e65712"
      },
      "source": [
        "test_rt = TestRuntimeCallback()\n",
        "test_loss, test_acc = model_3a.evaluate(test_images, test_labels, callbacks=[test_rt])"
      ],
      "execution_count": 16,
      "outputs": [
        {
          "output_type": "stream",
          "text": [
            "313/313 [==============================] - 3s 10ms/step - loss: 0.3462 - accuracy: 0.9120\n"
          ],
          "name": "stdout"
        }
      ]
    },
    {
      "cell_type": "code",
      "metadata": {
        "colab": {
          "base_uri": "https://localhost:8080/"
        },
        "id": "MmTXGYXQKRYz",
        "outputId": "9f8eaa47-6540-4c95-f295-13bac08e6677"
      },
      "source": [
        "test_time = test_rt.process_time\n",
        "test_time # in seconds"
      ],
      "execution_count": 17,
      "outputs": [
        {
          "output_type": "execute_result",
          "data": {
            "text/plain": [
              "3.206093"
            ]
          },
          "metadata": {
            "tags": []
          },
          "execution_count": 17
        }
      ]
    },
    {
      "cell_type": "code",
      "metadata": {
        "id": "1UvtcMDZKiMI"
      },
      "source": [
        "#accuracy and plotting"
      ],
      "execution_count": null,
      "outputs": []
    },
    {
      "cell_type": "code",
      "metadata": {
        "colab": {
          "base_uri": "https://localhost:8080/"
        },
        "id": "q4L-7wvAK0x2",
        "outputId": "d0561e43-1996-42c2-822a-b847ba9ecc66"
      },
      "source": [
        "history_dict = history.history\n",
        "history_dict.keys()"
      ],
      "execution_count": 18,
      "outputs": [
        {
          "output_type": "execute_result",
          "data": {
            "text/plain": [
              "dict_keys(['loss', 'accuracy', 'val_loss', 'val_accuracy'])"
            ]
          },
          "metadata": {
            "tags": []
          },
          "execution_count": 18
        }
      ]
    },
    {
      "cell_type": "code",
      "metadata": {
        "colab": {
          "base_uri": "https://localhost:8080/",
          "height": 204
        },
        "id": "m6bfNjW9K2ok",
        "outputId": "edb7e646-4b25-41c9-84bc-0764ed55b5f8"
      },
      "source": [
        "history_df=pd.DataFrame(history_dict)\n",
        "history_df.tail()"
      ],
      "execution_count": 19,
      "outputs": [
        {
          "output_type": "execute_result",
          "data": {
            "text/html": [
              "<div>\n",
              "<style scoped>\n",
              "    .dataframe tbody tr th:only-of-type {\n",
              "        vertical-align: middle;\n",
              "    }\n",
              "\n",
              "    .dataframe tbody tr th {\n",
              "        vertical-align: top;\n",
              "    }\n",
              "\n",
              "    .dataframe thead th {\n",
              "        text-align: right;\n",
              "    }\n",
              "</style>\n",
              "<table border=\"1\" class=\"dataframe\">\n",
              "  <thead>\n",
              "    <tr style=\"text-align: right;\">\n",
              "      <th></th>\n",
              "      <th>loss</th>\n",
              "      <th>accuracy</th>\n",
              "      <th>val_loss</th>\n",
              "      <th>val_accuracy</th>\n",
              "    </tr>\n",
              "  </thead>\n",
              "  <tbody>\n",
              "    <tr>\n",
              "      <th>15</th>\n",
              "      <td>0.091691</td>\n",
              "      <td>0.966145</td>\n",
              "      <td>0.279258</td>\n",
              "      <td>0.9162</td>\n",
              "    </tr>\n",
              "    <tr>\n",
              "      <th>16</th>\n",
              "      <td>0.080241</td>\n",
              "      <td>0.970709</td>\n",
              "      <td>0.292401</td>\n",
              "      <td>0.9152</td>\n",
              "    </tr>\n",
              "    <tr>\n",
              "      <th>17</th>\n",
              "      <td>0.073180</td>\n",
              "      <td>0.972782</td>\n",
              "      <td>0.322978</td>\n",
              "      <td>0.9136</td>\n",
              "    </tr>\n",
              "    <tr>\n",
              "      <th>18</th>\n",
              "      <td>0.066813</td>\n",
              "      <td>0.975545</td>\n",
              "      <td>0.318989</td>\n",
              "      <td>0.9144</td>\n",
              "    </tr>\n",
              "    <tr>\n",
              "      <th>19</th>\n",
              "      <td>0.059496</td>\n",
              "      <td>0.978509</td>\n",
              "      <td>0.327916</td>\n",
              "      <td>0.9170</td>\n",
              "    </tr>\n",
              "  </tbody>\n",
              "</table>\n",
              "</div>"
            ],
            "text/plain": [
              "        loss  accuracy  val_loss  val_accuracy\n",
              "15  0.091691  0.966145  0.279258        0.9162\n",
              "16  0.080241  0.970709  0.292401        0.9152\n",
              "17  0.073180  0.972782  0.322978        0.9136\n",
              "18  0.066813  0.975545  0.318989        0.9144\n",
              "19  0.059496  0.978509  0.327916        0.9170"
            ]
          },
          "metadata": {
            "tags": []
          },
          "execution_count": 19
        }
      ]
    },
    {
      "cell_type": "code",
      "metadata": {
        "colab": {
          "base_uri": "https://localhost:8080/",
          "height": 80
        },
        "id": "N9cbHXOeK3N6",
        "outputId": "f945941d-9e1b-4a60-932c-9b7a4b78d3cd"
      },
      "source": [
        "results_df3a = history_df.iloc[-1:].copy()\n",
        "results_df3a.insert(0,'model','CNN (2 layers)') # want the model name to appear first\n",
        "results_df3a['training time (sec)'] = train_time      # we are okay with training time appearing last\n",
        "results_df3a['testing time (sec)'] = test_time      # we are okay with training time appearing last\n",
        "results_df3a"
      ],
      "execution_count": 20,
      "outputs": [
        {
          "output_type": "execute_result",
          "data": {
            "text/html": [
              "<div>\n",
              "<style scoped>\n",
              "    .dataframe tbody tr th:only-of-type {\n",
              "        vertical-align: middle;\n",
              "    }\n",
              "\n",
              "    .dataframe tbody tr th {\n",
              "        vertical-align: top;\n",
              "    }\n",
              "\n",
              "    .dataframe thead th {\n",
              "        text-align: right;\n",
              "    }\n",
              "</style>\n",
              "<table border=\"1\" class=\"dataframe\">\n",
              "  <thead>\n",
              "    <tr style=\"text-align: right;\">\n",
              "      <th></th>\n",
              "      <th>model</th>\n",
              "      <th>loss</th>\n",
              "      <th>accuracy</th>\n",
              "      <th>val_loss</th>\n",
              "      <th>val_accuracy</th>\n",
              "      <th>training time (sec)</th>\n",
              "      <th>testing time (sec)</th>\n",
              "    </tr>\n",
              "  </thead>\n",
              "  <tbody>\n",
              "    <tr>\n",
              "      <th>19</th>\n",
              "      <td>CNN (2 layers)</td>\n",
              "      <td>0.059496</td>\n",
              "      <td>0.978509</td>\n",
              "      <td>0.327916</td>\n",
              "      <td>0.917</td>\n",
              "      <td>851.576519</td>\n",
              "      <td>3.206093</td>\n",
              "    </tr>\n",
              "  </tbody>\n",
              "</table>\n",
              "</div>"
            ],
            "text/plain": [
              "             model      loss  ...  training time (sec)  testing time (sec)\n",
              "19  CNN (2 layers)  0.059496  ...           851.576519            3.206093\n",
              "\n",
              "[1 rows x 7 columns]"
            ]
          },
          "metadata": {
            "tags": []
          },
          "execution_count": 20
        }
      ]
    },
    {
      "cell_type": "code",
      "metadata": {
        "colab": {
          "base_uri": "https://localhost:8080/",
          "height": 324
        },
        "id": "TYiF_NElK5mT",
        "outputId": "a4a68388-3500-4d35-cdaf-7ecf737b9791"
      },
      "source": [
        "pd.DataFrame(history.history).plot(figsize=(8, 5))\n",
        "plt.grid(True)\n",
        "plt.gca().set_ylim(0, 1) # set the vertical range to [0-1]\n",
        "plt.show()"
      ],
      "execution_count": 22,
      "outputs": [
        {
          "output_type": "display_data",
          "data": {
            "image/png": "[encoded data removed]",
            "text/plain": [
              "<Figure size 576x360 with 1 Axes>"
            ]
          },
          "metadata": {
            "tags": [],
            "needs_background": "light"
          }
        }
      ]
    },
    {
      "cell_type": "markdown",
      "metadata": {
        "id": "086O47_7MuHO"
      },
      "source": [
        "**Experiment  4: CNN with 3 convolution/max pooling layers (no drop out) to work with our Fashion MNIST dataset.**"
      ]
    },
    {
      "cell_type": "code",
      "metadata": {
        "id": "ICsy1o0lM1LK"
      },
      "source": [
        "#building the network"
      ],
      "execution_count": null,
      "outputs": []
    },
    {
      "cell_type": "code",
      "metadata": {
        "id": "WXTorf6sM3fr"
      },
      "source": [
        "model_4a = models.Sequential()\n",
        "model_4a.add(layers.Conv2D(32, (3, 3), activation='relu', input_shape=(28, 28, 1)))\n",
        "model_4a.add(layers.MaxPooling2D((2, 2)))\n",
        "model_4a.add(layers.Conv2D(64, (3, 3), activation='relu'))\n",
        "model_4a.add(layers.MaxPooling2D((2, 2)))\n",
        "model_4a.add(layers.Conv2D(64, (3, 3), activation='relu'))\n",
        "model_4a.add(layers.Flatten())\n",
        "model_4a.add(layers.Dense(64, activation='relu'))\n",
        "model_4a.add(layers.Dense(10, activation='softmax'))"
      ],
      "execution_count": 24,
      "outputs": []
    },
    {
      "cell_type": "code",
      "metadata": {
        "colab": {
          "base_uri": "https://localhost:8080/"
        },
        "id": "SWBO4e3jM8w0",
        "outputId": "74e3383e-46b2-4aaf-a60c-cd06329c4f14"
      },
      "source": [
        "model_4a.summary()"
      ],
      "execution_count": 25,
      "outputs": [
        {
          "output_type": "stream",
          "text": [
            "Model: \"sequential_2\"\n",
            "_________________________________________________________________\n",
            "Layer (type)                 Output Shape              Param #   \n",
            "=================================================================\n",
            "conv2d_5 (Conv2D)            (None, 26, 26, 32)        320       \n",
            "_________________________________________________________________\n",
            "max_pooling2d_4 (MaxPooling2 (None, 13, 13, 32)        0         \n",
            "_________________________________________________________________\n",
            "conv2d_6 (Conv2D)            (None, 11, 11, 64)        18496     \n",
            "_________________________________________________________________\n",
            "max_pooling2d_5 (MaxPooling2 (None, 5, 5, 64)          0         \n",
            "_________________________________________________________________\n",
            "conv2d_7 (Conv2D)            (None, 3, 3, 64)          36928     \n",
            "_________________________________________________________________\n",
            "flatten_2 (Flatten)          (None, 576)               0         \n",
            "_________________________________________________________________\n",
            "dense_4 (Dense)              (None, 64)                36928     \n",
            "_________________________________________________________________\n",
            "dense_5 (Dense)              (None, 10)                650       \n",
            "=================================================================\n",
            "Total params: 93,322\n",
            "Trainable params: 93,322\n",
            "Non-trainable params: 0\n",
            "_________________________________________________________________\n"
          ],
          "name": "stdout"
        }
      ]
    },
    {
      "cell_type": "code",
      "metadata": {
        "id": "oKGA6NwgNAos"
      },
      "source": [
        "#compile the model"
      ],
      "execution_count": null,
      "outputs": []
    },
    {
      "cell_type": "code",
      "metadata": {
        "id": "VLj3Hl3UNBqc"
      },
      "source": [
        "model_4a.compile(optimizer='adam',\n",
        "                loss='sparse_categorical_crossentropy',\n",
        "                metrics=['accuracy'])"
      ],
      "execution_count": 26,
      "outputs": []
    },
    {
      "cell_type": "code",
      "metadata": {
        "id": "3uKVOf5XND7k"
      },
      "source": [
        "#train the model"
      ],
      "execution_count": null,
      "outputs": []
    },
    {
      "cell_type": "code",
      "metadata": {
        "colab": {
          "base_uri": "https://localhost:8080/"
        },
        "id": "oxFdC0dzNFCV",
        "outputId": "0a554103-6366-4bbe-9a59-a9160272cd8b"
      },
      "source": [
        "train_rt = TrainRuntimeCallback()\n",
        "history = model_4a.fit(train_images, train_labels, callbacks=[train_rt], epochs=20, batch_size = 100,\n",
        "                    validation_data=(val_images, val_labels))\n",
        "\n",
        "# Saving models locally after fitting\n",
        "save_dir = \"results/\"\n",
        "model_name = 'fashion_mnist_model_4a.h5'\n",
        "model_path = os.path.join(save_dir, model_name)\n",
        "model_4a.save(model_path)\n",
        "print('Saved trained model at %s ' % model_path)\n",
        "print('--------------------------')"
      ],
      "execution_count": 27,
      "outputs": [
        {
          "output_type": "stream",
          "text": [
            "Epoch 1/20\n",
            "550/550 [==============================] - 45s 80ms/step - loss: 0.8770 - accuracy: 0.6818 - val_loss: 0.4037 - val_accuracy: 0.8588\n",
            "Epoch 2/20\n",
            "550/550 [==============================] - 45s 81ms/step - loss: 0.4008 - accuracy: 0.8532 - val_loss: 0.3468 - val_accuracy: 0.8802\n",
            "Epoch 3/20\n",
            "550/550 [==============================] - 44s 80ms/step - loss: 0.3345 - accuracy: 0.8784 - val_loss: 0.3147 - val_accuracy: 0.8840\n",
            "Epoch 4/20\n",
            "550/550 [==============================] - 45s 81ms/step - loss: 0.2991 - accuracy: 0.8917 - val_loss: 0.2858 - val_accuracy: 0.9000\n",
            "Epoch 5/20\n",
            "550/550 [==============================] - 44s 81ms/step - loss: 0.2675 - accuracy: 0.9033 - val_loss: 0.2737 - val_accuracy: 0.9002\n",
            "Epoch 6/20\n",
            "550/550 [==============================] - 44s 80ms/step - loss: 0.2515 - accuracy: 0.9064 - val_loss: 0.2736 - val_accuracy: 0.8974\n",
            "Epoch 7/20\n",
            "550/550 [==============================] - 45s 81ms/step - loss: 0.2332 - accuracy: 0.9151 - val_loss: 0.2458 - val_accuracy: 0.9112\n",
            "Epoch 8/20\n",
            "550/550 [==============================] - 44s 80ms/step - loss: 0.2170 - accuracy: 0.9206 - val_loss: 0.2510 - val_accuracy: 0.9078\n",
            "Epoch 9/20\n",
            "550/550 [==============================] - 44s 80ms/step - loss: 0.1953 - accuracy: 0.9296 - val_loss: 0.2500 - val_accuracy: 0.9090\n",
            "Epoch 10/20\n",
            "550/550 [==============================] - 44s 80ms/step - loss: 0.1873 - accuracy: 0.9308 - val_loss: 0.2488 - val_accuracy: 0.9102\n",
            "Epoch 11/20\n",
            "550/550 [==============================] - 45s 82ms/step - loss: 0.1785 - accuracy: 0.9335 - val_loss: 0.2426 - val_accuracy: 0.9142\n",
            "Epoch 12/20\n",
            "550/550 [==============================] - 45s 82ms/step - loss: 0.1690 - accuracy: 0.9381 - val_loss: 0.2706 - val_accuracy: 0.9036\n",
            "Epoch 13/20\n",
            "550/550 [==============================] - 44s 80ms/step - loss: 0.1541 - accuracy: 0.9428 - val_loss: 0.2482 - val_accuracy: 0.9098\n",
            "Epoch 14/20\n",
            "550/550 [==============================] - 44s 80ms/step - loss: 0.1468 - accuracy: 0.9468 - val_loss: 0.2415 - val_accuracy: 0.9182\n",
            "Epoch 15/20\n",
            "550/550 [==============================] - 45s 82ms/step - loss: 0.1304 - accuracy: 0.9522 - val_loss: 0.2620 - val_accuracy: 0.9116\n",
            "Epoch 16/20\n",
            "550/550 [==============================] - 45s 81ms/step - loss: 0.1262 - accuracy: 0.9527 - val_loss: 0.2696 - val_accuracy: 0.9130\n",
            "Epoch 17/20\n",
            "550/550 [==============================] - 45s 81ms/step - loss: 0.1173 - accuracy: 0.9560 - val_loss: 0.2678 - val_accuracy: 0.9166\n",
            "Epoch 18/20\n",
            "550/550 [==============================] - 45s 82ms/step - loss: 0.1056 - accuracy: 0.9614 - val_loss: 0.2832 - val_accuracy: 0.9124\n",
            "Epoch 19/20\n",
            "550/550 [==============================] - 45s 82ms/step - loss: 0.0979 - accuracy: 0.9649 - val_loss: 0.2919 - val_accuracy: 0.9124\n",
            "Epoch 20/20\n",
            "550/550 [==============================] - 46s 83ms/step - loss: 0.0893 - accuracy: 0.9670 - val_loss: 0.2837 - val_accuracy: 0.9176\n",
            "Saved trained model at results/fashion_mnist_model_4a.h5 \n",
            "--------------------------\n"
          ],
          "name": "stdout"
        }
      ]
    },
    {
      "cell_type": "code",
      "metadata": {
        "colab": {
          "base_uri": "https://localhost:8080/"
        },
        "id": "76zkbqxIQkuR",
        "outputId": "46060cb5-5eb8-4f10-b576-439f916350f5"
      },
      "source": [
        "train_time = train_rt.process_time\n",
        "train_time "
      ],
      "execution_count": 28,
      "outputs": [
        {
          "output_type": "execute_result",
          "data": {
            "text/plain": [
              "891.958671"
            ]
          },
          "metadata": {
            "tags": []
          },
          "execution_count": 28
        }
      ]
    },
    {
      "cell_type": "code",
      "metadata": {
        "colab": {
          "base_uri": "https://localhost:8080/"
        },
        "id": "WwuoRKRHQsCO",
        "outputId": "a0006aea-a0c6-46b0-c2ed-d00114879e09"
      },
      "source": [
        "test_rt = TestRuntimeCallback()\n",
        "test_loss, test_acc = model_4a.evaluate(test_images, test_labels, callbacks=[test_rt])"
      ],
      "execution_count": 29,
      "outputs": [
        {
          "output_type": "stream",
          "text": [
            "313/313 [==============================] - 3s 10ms/step - loss: 0.3166 - accuracy: 0.9080\n"
          ],
          "name": "stdout"
        }
      ]
    },
    {
      "cell_type": "code",
      "metadata": {
        "colab": {
          "base_uri": "https://localhost:8080/"
        },
        "id": "PRLD8I39QtlH",
        "outputId": "9c015a6e-cc94-4335-e2d6-437c11b345f9"
      },
      "source": [
        "test_time = test_rt.process_time\n",
        "test_time"
      ],
      "execution_count": 31,
      "outputs": [
        {
          "output_type": "execute_result",
          "data": {
            "text/plain": [
              "3.397868"
            ]
          },
          "metadata": {
            "tags": []
          },
          "execution_count": 31
        }
      ]
    },
    {
      "cell_type": "code",
      "metadata": {
        "id": "lLLwKjaSQyup"
      },
      "source": [
        "#accuracy and plotting"
      ],
      "execution_count": null,
      "outputs": []
    },
    {
      "cell_type": "code",
      "metadata": {
        "colab": {
          "base_uri": "https://localhost:8080/"
        },
        "id": "bwaaVtPTQzyZ",
        "outputId": "97f60bb5-ef0c-4266-c428-a78f03a9ff21"
      },
      "source": [
        "history_dict = history.history\n",
        "history_dict.keys()"
      ],
      "execution_count": 32,
      "outputs": [
        {
          "output_type": "execute_result",
          "data": {
            "text/plain": [
              "dict_keys(['loss', 'accuracy', 'val_loss', 'val_accuracy'])"
            ]
          },
          "metadata": {
            "tags": []
          },
          "execution_count": 32
        }
      ]
    },
    {
      "cell_type": "code",
      "metadata": {
        "colab": {
          "base_uri": "https://localhost:8080/",
          "height": 80
        },
        "id": "J3EBdyXSQ2M1",
        "outputId": "51aebb67-dce5-4950-a18b-793094108622"
      },
      "source": [
        "results_df4a = history_df.iloc[-1:].copy()\n",
        "results_df4a.insert(0,'model','CNN (3 layers)') \n",
        "results_df4a['training time (sec)'] = train_time     \n",
        "results_df4a['testing time (sec)'] = test_time      \n",
        "results_df4a"
      ],
      "execution_count": 34,
      "outputs": [
        {
          "output_type": "execute_result",
          "data": {
            "text/html": [
              "<div>\n",
              "<style scoped>\n",
              "    .dataframe tbody tr th:only-of-type {\n",
              "        vertical-align: middle;\n",
              "    }\n",
              "\n",
              "    .dataframe tbody tr th {\n",
              "        vertical-align: top;\n",
              "    }\n",
              "\n",
              "    .dataframe thead th {\n",
              "        text-align: right;\n",
              "    }\n",
              "</style>\n",
              "<table border=\"1\" class=\"dataframe\">\n",
              "  <thead>\n",
              "    <tr style=\"text-align: right;\">\n",
              "      <th></th>\n",
              "      <th>model</th>\n",
              "      <th>loss</th>\n",
              "      <th>accuracy</th>\n",
              "      <th>val_loss</th>\n",
              "      <th>val_accuracy</th>\n",
              "      <th>training time (sec)</th>\n",
              "      <th>testing time (sec)</th>\n",
              "    </tr>\n",
              "  </thead>\n",
              "  <tbody>\n",
              "    <tr>\n",
              "      <th>19</th>\n",
              "      <td>CNN (3 layers)</td>\n",
              "      <td>0.059496</td>\n",
              "      <td>0.978509</td>\n",
              "      <td>0.327916</td>\n",
              "      <td>0.917</td>\n",
              "      <td>891.958671</td>\n",
              "      <td>3.397868</td>\n",
              "    </tr>\n",
              "  </tbody>\n",
              "</table>\n",
              "</div>"
            ],
            "text/plain": [
              "             model      loss  ...  training time (sec)  testing time (sec)\n",
              "19  CNN (3 layers)  0.059496  ...           891.958671            3.397868\n",
              "\n",
              "[1 rows x 7 columns]"
            ]
          },
          "metadata": {
            "tags": []
          },
          "execution_count": 34
        }
      ]
    },
    {
      "cell_type": "code",
      "metadata": {
        "colab": {
          "base_uri": "https://localhost:8080/",
          "height": 324
        },
        "id": "w3Ga40yvQ7zV",
        "outputId": "2441e2ec-172d-4359-c859-a4a6178ab68d"
      },
      "source": [
        "pd.DataFrame(history.history).plot(figsize=(8, 5))\n",
        "plt.grid(True)\n",
        "plt.gca().set_ylim(0, 1) # set the vertical range to [0-1]\n",
        "plt.show()"
      ],
      "execution_count": 35,
      "outputs": [
        {
          "output_type": "display_data",
          "data": {
            "image/png": "[encoded data removed]",
            "text/plain": [
              "<Figure size 576x360 with 1 Axes>"
            ]
          },
          "metadata": {
            "tags": [],
            "needs_background": "light"
          }
        }
      ]
    }
  ]
}